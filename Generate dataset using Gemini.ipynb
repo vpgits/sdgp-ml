{
 "cells": [
  {
   "cell_type": "markdown",
   "metadata": {},
   "source": [
    "# Generate a dataset using Google Gemini API"
   ]
  },
  {
   "cell_type": "markdown",
   "metadata": {},
   "source": [
    "## Initialize the gemini client"
   ]
  },
  {
   "cell_type": "code",
   "execution_count": 5,
   "metadata": {},
   "outputs": [],
   "source": [
    "import google.generativeai as genai\n",
    "from dotenv import load_dotenv\n",
    "import os\n",
    "\n",
    "load_dotenv()\n",
    "\n",
    "GOOGLE_API_KEY = os.getenv('GOOGLE_API_KEY')\n",
    "\n",
    "genai.configure(api_key=GOOGLE_API_KEY)"
   ]
  },
  {
   "cell_type": "markdown",
   "metadata": {},
   "source": [
    "## Set the model to Gemini-pro"
   ]
  },
  {
   "cell_type": "code",
   "execution_count": 7,
   "metadata": {},
   "outputs": [],
   "source": [
    "model = genai.GenerativeModel('gemini-pro')"
   ]
  },
  {
   "cell_type": "markdown",
   "metadata": {},
   "source": [
    "## Sample function to generate a single entry "
   ]
  },
  {
   "cell_type": "code",
   "execution_count": 9,
   "metadata": {},
   "outputs": [
    {
     "name": "stdout",
     "output_type": "stream",
     "text": [
      "CPU times: user 2 µs, sys: 1 µs, total: 3 µs\n",
      "Wall time: 3.81 µs\n"
     ]
    }
   ],
   "source": [
    "def generate_response(content:str):\n",
    "    response = model.generate_content(f\"\"\"\n",
    "{SYSTEM_PROMPT}+{content}\n",
    "\"\"\")\n",
    "    return response"
   ]
  },
  {
   "cell_type": "markdown",
   "metadata": {},
   "source": [
    "## Sample system prompt to generate the dataset"
   ]
  },
  {
   "cell_type": "code",
   "execution_count": 8,
   "metadata": {},
   "outputs": [],
   "source": [
    "SYSTEM_PROMPT = \"\"\"\n",
    "You are supposed to create  a dataset so refrain from outputting anything unnecessary .\n",
    "You are given pages of lecture slides from a curated collection. Ignore page numbers and personal information, extract the context.\n",
    "Generate  logical questions, correct answer and three incorrect answers suitable for mcq from the context text. \n",
    "Do not generate questions that go like from the lecture? in this lecture? etc.\n",
    "Go step by step.  final output should be in json format. json schema for the output is \n",
    "{\n",
    "    \"Output\": {\n",
    "        \"type\": \"object\",\n",
    "        \"properties\": {\n",
    "            \"question\": {\n",
    "                \"type\": \"string\"\n",
    "            },\n",
    "            \"correct_answer\": {\n",
    "                \"type\": \"string\"\n",
    "            },\n",
    "            \"incorrect_answers\": {\n",
    "                \"type\": \"array\",\n",
    "                \"items\": {\n",
    "                    \"type\": \"string\"\n",
    "                }\n",
    "            }\n",
    "        },\n",
    "        \"required\": [\"question\", \"correct_answer\", \"incorrect_answers\"]\n",
    "    }\n",
    "}\n",
    "\n",
    "\n",
    "\"\"\""
   ]
  },
  {
   "cell_type": "markdown",
   "metadata": {},
   "source": [
    "## Get a list of files that needs to be extracted"
   ]
  },
  {
   "cell_type": "code",
   "execution_count": 12,
   "metadata": {},
   "outputs": [
    {
     "data": {
      "text/plain": [
       "['while_loops.pdf',\n",
       " '5COSC010C.Lecture-02.Network-B-Protocol Stacks(1).pdf',\n",
       " 'CSF_Lecture_1_Part_2 of 2.pdf',\n",
       " 'CSF_IP Addressing.pdf',\n",
       " 'Week07.pdf',\n",
       " 'Lecture 1 - Introduction -2023.pdf',\n",
       " 'Lecture_Week05_WebServices.pdf',\n",
       " 'Lists_Tuples_20_21.pdf',\n",
       " 'CSF_Lecture_Operating Systems.pdf',\n",
       " 'CSF_Lecture2.pdf',\n",
       " 'CSF_Lecture_1_Part_1 of 2.pdf',\n",
       " '5COSC010C.Lecture-03-B-Network.Layer-IP-Address.pdf',\n",
       " 'Week09 - Tagged.pdf',\n",
       " 'files_21-22.pdf',\n",
       " 'Week10 - Tagged.pdf',\n",
       " '5COSC022C.Lecture.5.d.WebServices.Communication.pdf',\n",
       " 'string slices.pdf',\n",
       " 'Binary Operations.pdf',\n",
       " '2 Character Codes .pdf',\n",
       " '5COSC022C.Lecture.5.c.WebServices.ProtocolsAndModels.pdf',\n",
       " '5COSC010C.Lecture.4.a.ApplicationLayer-DNS.pdf',\n",
       " 'Week04_lecture.pdf',\n",
       " 'Lecture_Week07_REST_API_JAXRS.pdf',\n",
       " 'ML2021_lecture2_VK (1).pdf',\n",
       " '5COSC010C.Lecture-03-C-TransportLayer-.pdf',\n",
       " 'Lecture_Week03.pdf',\n",
       " '01 Introduction.ClientServerConcepts.pdf',\n",
       " 'Lecture.6.j.ICT1.Review.WebServices.Introduction.pdf',\n",
       " 'DiskSector 0.pdf',\n",
       " 'Week05(1) - Tagged.pdf',\n",
       " 'for_loop.pdf',\n",
       " 'python-sqlite_21-21_V2.pdf',\n",
       " '5COSC022C.Lecture.5.e.ServiceOrientedArchitectures.pdf',\n",
       " 'Range of Values (Unsigned)(1).pdf',\n",
       " 'Week03.pdf',\n",
       " 'Lecture.6.i.ICT1.Review.ServiceOrientedArchitectures.pdf',\n",
       " 'Lecture_ML2023_DT_VK.pdf',\n",
       " 'Lecture_ML2023_naive_VK.pdf',\n",
       " '5COSC010C.Lecture-02.Network-A-Introduction.pdf',\n",
       " 'ML2021_KNN_VK.pdf',\n",
       " '5COSC010C.Lecture.4.c.Sockets.pdf',\n",
       " 'strings.pdf',\n",
       " '5COSC010C.Lecture-03-A-Network.Layer.pdf',\n",
       " '01 5COSC022W_Lecture_Week01.pdf',\n",
       " 'Dictionary.pdf',\n",
       " 'Lecture_ML2023_part_cluster_VK.pdf',\n",
       " '5COSC022C.Lecture.5.b.WebServices.WebServiceStack..pdf',\n",
       " 'lecture 2 Part A 2020.pdf',\n",
       " 'Lecture_ML2023_NN_VK (1).pdf',\n",
       " 'ListComprehensions21-22.pdf',\n",
       " 'Week02 (1).pdf',\n",
       " '5COSC010C.Lecture.4.b.Client.Server.Communication.pdf',\n",
       " 'Lecture_ML2023_AssocRules_VK.pdf',\n",
       " 'Lecture_ML2023_hier_clustering_VK (1).pdf',\n",
       " 'PBS  Lecture (1).pdf',\n",
       " 'conditionsWeek3_20_21_v1.pdf',\n",
       " 'Signed Integers.pdf',\n",
       " '1 Data Storage.pdf',\n",
       " 'lecture 2 Part B 2020.pdf',\n",
       " 'Lecture_Week04_ClientServerArchitectures.pdf',\n",
       " 'RANGE_FUNCTION_21_22.pdf',\n",
       " 'continue_break.pdf',\n",
       " '5COSC022C.Lecture.5.a.WebServices.Introduction.pdf',\n",
       " 'Week08 - Tagged.pdf',\n",
       " 'LectureWeek02_Client_Server_Architectures.pdf',\n",
       " 'stringFormatting.pdf',\n",
       " 'functions_21-22_v2.pdf',\n",
       " 'Lecture_Week08_RESTAPI_Security.pdf',\n",
       " '3 Images.pdf']"
      ]
     },
     "execution_count": 12,
     "metadata": {},
     "output_type": "execute_result"
    }
   ],
   "source": [
    "folder_path = './dataset/source/'\n",
    "pdfs = os.listdir(folder_path)\n",
    "pdfs"
   ]
  },
  {
   "cell_type": "markdown",
   "metadata": {},
   "source": [
    "## Use pandas and pypdf2 to load the pdf and extract text and then load it to a csv file"
   ]
  },
  {
   "cell_type": "code",
   "execution_count": 13,
   "metadata": {},
   "outputs": [],
   "source": [
    "\n",
    "import PyPDF2\n",
    "import pandas as pd\n",
    "\n",
    "def pdf_to_pandas_df(folder_path, pdfs):\n",
    "    all_pdfs = []\n",
    "    for pdf in pdfs:\n",
    "        with open(folder_path+pdf, 'rb') as file:\n",
    "            reader = PyPDF2.PdfReader(file)\n",
    "            data = {'Page':[page.extract_text() for page in reader.pages]}\n",
    "            df = pd.DataFrame(data)\n",
    "            all_pdfs.append(df)\n",
    "    df = pd.concat(all_pdfs, ignore_index=True)\n",
    "    return df\n",
    "\n",
    "\n",
    "df = pdf_to_pandas_df(folder_path, pdfs)\n",
    "df.to_csv('./df.csv', index=False)"
   ]
  },
  {
   "cell_type": "code",
   "execution_count": 14,
   "metadata": {},
   "outputs": [],
   "source": [
    "df.head()"
   ]
  },
  {
   "cell_type": "markdown",
   "metadata": {},
   "source": [
    "## Load the dataset as a pandas dataframe"
   ]
  },
  {
   "cell_type": "code",
   "execution_count": 100,
   "metadata": {},
   "outputs": [],
   "source": [
    "df = pd.read_csv('./dataset/filtered_dataset.csv')"
   ]
  },
  {
   "cell_type": "code",
   "execution_count": 17,
   "metadata": {},
   "outputs": [],
   "source": [
    "df = pd.read_csv('df_pruned.csv', header=None)"
   ]
  },
  {
   "cell_type": "code",
   "execution_count": 22,
   "metadata": {},
   "outputs": [],
   "source": [
    "\n",
    "df.head()\n",
    "df.to_csv('./df_pruned.csv', index=False)"
   ]
  },
  {
   "cell_type": "markdown",
   "metadata": {},
   "source": [
    "## Sample function to generate the dataset at batch"
   ]
  },
  {
   "cell_type": "code",
   "execution_count": 29,
   "metadata": {},
   "outputs": [
    {
     "name": "stderr",
     "output_type": "stream",
     "text": [
      "/tmp/ipykernel_28208/2066097063.py:4: FutureWarning: Series.__getitem__ treating keys as positions is deprecated. In a future version, integer keys will always be treated as labels (consistent with DataFrame behavior). To access a value by position, use `ser.iloc[pos]`\n",
      "  response = generate_response(row[0])\n"
     ]
    },
    {
     "name": "stdout",
     "output_type": "stream",
     "text": [
      "Processed 1 rows\n",
      "Processed 2 rows\n",
      "Processed 3 rows\n",
      "Processed 4 rows\n",
      "Processed 5 rows\n",
      "Processed 6 rows\n",
      "Processed 7 rows\n",
      "Processed 8 rows\n",
      "Processed 9 rows\n",
      "Processed 10 rows\n",
      "Processed 11 rows\n",
      "Processed 12 rows\n",
      "Processed 13 rows\n",
      "Processed 14 rows\n",
      "Processed 15 rows\n",
      "Processed 16 rows\n",
      "Processed 17 rows\n",
      "Processed 18 rows\n",
      "Processed 19 rows\n",
      "Processed 20 rows\n",
      "Processed 21 rows\n",
      "Processed 22 rows\n",
      "Processed 23 rows\n",
      "Processed 24 rows\n",
      "Processed 25 rows\n",
      "Processed 26 rows\n",
      "Processed 27 rows\n",
      "Processed 28 rows\n",
      "Processed 29 rows\n",
      "Processed 30 rows\n",
      "Processed 31 rows\n",
      "Processed 32 rows\n",
      "Processed 33 rows\n",
      "Processed 34 rows\n",
      "Processed 35 rows\n",
      "Processed 36 rows\n",
      "Processed 37 rows\n",
      "Processed 38 rows\n",
      "Processed 39 rows\n",
      "Processed 40 rows\n",
      "Processed 41 rows\n",
      "Processed 42 rows\n",
      "Processed 43 rows\n",
      "Processed 44 rows\n",
      "Processed 45 rows\n",
      "Processed 46 rows\n",
      "Processed 47 rows\n",
      "Processed 48 rows\n",
      "Processed 49 rows\n",
      "Processed 50 rows\n",
      "Processed 51 rows\n",
      "Processed 52 rows\n",
      "Processed 53 rows\n",
      "Processed 54 rows\n",
      "Processed 55 rows\n",
      "Processed 56 rows\n",
      "Processed 57 rows\n",
      "Processed 58 rows\n",
      "Processed 59 rows\n",
      "Processed 60 rows\n",
      "Processed 61 rows\n",
      "Processed 62 rows\n",
      "Processed 63 rows\n",
      "Processed 64 rows\n",
      "Processed 65 rows\n",
      "Processed 66 rows\n",
      "Processed 67 rows\n",
      "Processed 68 rows\n",
      "Processed 69 rows\n",
      "Processed 70 rows\n",
      "Processed 71 rows\n",
      "Processed 72 rows\n",
      "Processed 73 rows\n",
      "Processed 74 rows\n",
      "Processed 75 rows\n",
      "Processed 76 rows\n",
      "Processed 77 rows\n",
      "Processed 78 rows\n",
      "Processed 79 rows\n",
      "Processed 80 rows\n",
      "Processed 81 rows\n",
      "Processed 82 rows\n",
      "Processed 83 rows\n",
      "Processed 84 rows\n",
      "Processed 85 rows\n",
      "Processed 86 rows\n",
      "Processed 87 rows\n",
      "Processed 88 rows\n",
      "Processed 89 rows\n",
      "Processed 90 rows\n",
      "Processed 91 rows\n",
      "Processed 92 rows\n",
      "Processed 93 rows\n",
      "Processed 94 rows\n",
      "Processed 95 rows\n",
      "Processed 96 rows\n",
      "Processed 97 rows\n",
      "Processed 98 rows\n",
      "Processed 99 rows\n",
      "Processed 100 rows\n",
      "Processed 101 rows\n",
      "Processed 102 rows\n",
      "Processed 103 rows\n",
      "Processed 104 rows\n",
      "Processed 105 rows\n",
      "Processed 106 rows\n",
      "Processed 107 rows\n",
      "Processed 108 rows\n",
      "Processed 109 rows\n",
      "Processed 110 rows\n",
      "Processed 111 rows\n",
      "Processed 112 rows\n",
      "Processed 113 rows\n",
      "Processed 114 rows\n",
      "Processed 115 rows\n",
      "Processed 116 rows\n",
      "Processed 117 rows\n",
      "Processed 118 rows\n",
      "Processed 119 rows\n",
      "Processed 120 rows\n",
      "Processed 121 rows\n",
      "Processed 122 rows\n",
      "Processed 123 rows\n",
      "Processed 124 rows\n",
      "Processed 125 rows\n",
      "Processed 126 rows\n",
      "Processed 127 rows\n",
      "Processed 128 rows\n",
      "Processed 129 rows\n",
      "Processed 130 rows\n",
      "Processed 131 rows\n",
      "Processed 132 rows\n",
      "Processed 133 rows\n",
      "Processed 134 rows\n",
      "Processed 135 rows\n",
      "Processed 136 rows\n",
      "Processed 137 rows\n",
      "Processed 138 rows\n",
      "Processed 139 rows\n",
      "Processed 140 rows\n",
      "Processed 141 rows\n",
      "Processed 142 rows\n",
      "Processed 143 rows\n",
      "Processed 144 rows\n",
      "Processed 145 rows\n",
      "Processed 146 rows\n",
      "Processed 147 rows\n",
      "Processed 148 rows\n",
      "Processed 149 rows\n",
      "Processed 150 rows\n",
      "Processed 151 rows\n",
      "Processed 152 rows\n",
      "Processed 153 rows\n",
      "Processed 154 rows\n",
      "Processed 155 rows\n",
      "Processed 156 rows\n",
      "Processed 157 rows\n",
      "Processed 158 rows\n",
      "Processed 159 rows\n",
      "Processed 160 rows\n",
      "Processed 161 rows\n",
      "Processed 162 rows\n",
      "Processed 163 rows\n",
      "Processed 164 rows\n",
      "Processed 165 rows\n",
      "Processed 166 rows\n",
      "Processed 167 rows\n",
      "Processed 168 rows\n",
      "Processed 169 rows\n",
      "Processed 170 rows\n",
      "Processed 171 rows\n",
      "Processed 172 rows\n",
      "Processed 173 rows\n",
      "Processed 174 rows\n",
      "Processed 175 rows\n",
      "Processed 176 rows\n",
      "Processed 177 rows\n",
      "Processed 178 rows\n",
      "Processed 179 rows\n",
      "Processed 180 rows\n",
      "Processed 181 rows\n",
      "Processed 182 rows\n",
      "Processed 183 rows\n",
      "Processed 184 rows\n",
      "Processed 185 rows\n",
      "Processed 186 rows\n",
      "Processed 187 rows\n",
      "Processed 188 rows\n",
      "Processed 189 rows\n",
      "Processed 190 rows\n",
      "Processed 191 rows\n",
      "Processed 192 rows\n",
      "Processed 193 rows\n",
      "Processed 194 rows\n",
      "Processed 195 rows\n",
      "Processed 196 rows\n",
      "Processed 197 rows\n",
      "Processed 198 rows\n",
      "Processed 199 rows\n",
      "Processed 200 rows\n",
      "Processed 201 rows\n",
      "Processed 202 rows\n",
      "Processed 203 rows\n",
      "Processed 204 rows\n",
      "Processed 205 rows\n",
      "Processed 206 rows\n",
      "Processed 207 rows\n",
      "Processed 208 rows\n",
      "Processed 209 rows\n",
      "Processed 210 rows\n",
      "Processed 211 rows\n",
      "Processed 212 rows\n",
      "Processed 213 rows\n",
      "Processed 214 rows\n",
      "Processed 215 rows\n",
      "Processed 216 rows\n",
      "Processed 217 rows\n",
      "Processed 218 rows\n",
      "Processed 219 rows\n",
      "Processed 220 rows\n",
      "Processed 221 rows\n",
      "Processed 222 rows\n"
     ]
    }
   ],
   "source": [
    "import pandas as pd\n",
    "\n",
    "def process_row(row):\n",
    "    response = generate_response(row[0])\n",
    "    return response.text\n",
    "\n",
    "def gen_dataset(df, csv_path):\n",
    "    # Create a new column for output, initially filled with None\n",
    "    df['Output'] = None\n",
    "\n",
    "    # Initialize a counter\n",
    "    counter = 0\n",
    "\n",
    "    # Iterate over the DataFrame rows\n",
    "    for index, row in df.iterrows():\n",
    "        # Process each row and update the 'Output' column\n",
    "        df.at[index, 'Output'] = process_row(row)\n",
    "\n",
    "        # Increment the counter\n",
    "        counter += 1\n",
    "\n",
    "        # Save the updated DataFrame to CSV after processing each row\n",
    "        df.to_csv(csv_path, index=False)\n",
    "\n",
    "        # Optionally, print the counter to track progress\n",
    "        print(f\"Processed {counter} rows\")\n",
    "\n",
    "    return df\n",
    "\n",
    "# Usage example\n",
    "csv_path = './dataset_v2_other.csv'  # Specify the path to your CSV file\n",
    "df1 = gen_dataset(df, csv_path)"
   ]
  },
  {
   "cell_type": "markdown",
   "metadata": {},
   "source": [
    "## Optional: inspect the dataset"
   ]
  },
  {
   "cell_type": "code",
   "execution_count": 22,
   "metadata": {},
   "outputs": [
    {
     "name": "stdout",
     "output_type": "stream",
     "text": [
      "{'Output': {'question': 'In the given program, what is the final value in b ?', 'correct_answer': '6', 'incorrect_answers': ['5', '4', '7']}}\n",
      "{'Output': {'question': 'What is printed by the following?\\nalist = [4, 2, 8, 6, 5]\\nalist.pop(2)\\nalist.pop()\\nprint(alist)', 'correct_answer': '[4, 2, 5]', 'incorrect_answers': ['[4, 8, 6, 5]', '[4, 2, 8, 5]', '[4, 2, 8]']}}\n",
      "{'Output': {'question': 'Which node is pointed to by current?', 'correct_answer': 'c', 'incorrect_answers': ['a', 'b', 'd']}}\n",
      "{'Output': {'question': 'What is the main goal of social graph partitioning and clustering?', 'correct_answer': 'Identify groups within Facebook friends', 'incorrect_answers': ['Identify users with similar interests', 'Recommend friends to users', \"Improve the performance of Facebook's newsfeed\"]}}\n",
      "{'Output': {'question': 'What is the syntax for the Point constructor in Java?', 'correct_answer': 'Point(int x,int y)', 'incorrect_answers': ['Point()', 'Point(x,y)', 'Point(int)']}}\n",
      "{'Output': {'question': 'What is the first step in obtaining API keys?', 'correct_answer': 'Identify the API', 'incorrect_answers': ['Register for an account', 'Create a new project', 'Obtain API keys']}}\n"
     ]
    },
    {
     "ename": "JSONDecodeError",
     "evalue": "Extra data: line 12 column 1 (char 379)",
     "output_type": "error",
     "traceback": [
      "\u001b[0;31m---------------------------------------------------------------------------\u001b[0m",
      "\u001b[0;31mJSONDecodeError\u001b[0m                           Traceback (most recent call last)",
      "Cell \u001b[0;32mIn[22], line 9\u001b[0m\n\u001b[1;32m      5\u001b[0m \u001b[38;5;28;01mfor\u001b[39;00m index, row \u001b[38;5;129;01min\u001b[39;00m df[:\u001b[38;5;241m50\u001b[39m]\u001b[38;5;241m.\u001b[39miterrows():\n\u001b[1;32m      6\u001b[0m     \u001b[38;5;66;03m# Access the values of each column in the current row\u001b[39;00m\n\u001b[1;32m      7\u001b[0m     \u001b[38;5;66;03m# column1_value = row['Source']\u001b[39;00m\n\u001b[1;32m      8\u001b[0m     column2_value \u001b[38;5;241m=\u001b[39m row[\u001b[38;5;124m'\u001b[39m\u001b[38;5;124mOutput\u001b[39m\u001b[38;5;124m'\u001b[39m]\n\u001b[0;32m----> 9\u001b[0m     json_data \u001b[38;5;241m=\u001b[39m \u001b[43mjson\u001b[49m\u001b[38;5;241;43m.\u001b[39;49m\u001b[43mloads\u001b[49m\u001b[43m(\u001b[49m\u001b[43mcolumn2_value\u001b[49m\u001b[43m)\u001b[49m\n\u001b[1;32m     11\u001b[0m     \u001b[38;5;66;03m# Perform operations on the values or use them in your code\u001b[39;00m\n\u001b[1;32m     12\u001b[0m     \u001b[38;5;66;03m# ...\u001b[39;00m\n\u001b[1;32m     13\u001b[0m     \n\u001b[1;32m     14\u001b[0m     \u001b[38;5;66;03m# Print the values if needed\u001b[39;00m\n\u001b[1;32m     15\u001b[0m     \u001b[38;5;28mprint\u001b[39m(json_data)\n",
      "File \u001b[0;32m/usr/lib/python3.11/json/__init__.py:346\u001b[0m, in \u001b[0;36mloads\u001b[0;34m(s, cls, object_hook, parse_float, parse_int, parse_constant, object_pairs_hook, **kw)\u001b[0m\n\u001b[1;32m    341\u001b[0m     s \u001b[38;5;241m=\u001b[39m s\u001b[38;5;241m.\u001b[39mdecode(detect_encoding(s), \u001b[38;5;124m'\u001b[39m\u001b[38;5;124msurrogatepass\u001b[39m\u001b[38;5;124m'\u001b[39m)\n\u001b[1;32m    343\u001b[0m \u001b[38;5;28;01mif\u001b[39;00m (\u001b[38;5;28mcls\u001b[39m \u001b[38;5;129;01mis\u001b[39;00m \u001b[38;5;28;01mNone\u001b[39;00m \u001b[38;5;129;01mand\u001b[39;00m object_hook \u001b[38;5;129;01mis\u001b[39;00m \u001b[38;5;28;01mNone\u001b[39;00m \u001b[38;5;129;01mand\u001b[39;00m\n\u001b[1;32m    344\u001b[0m         parse_int \u001b[38;5;129;01mis\u001b[39;00m \u001b[38;5;28;01mNone\u001b[39;00m \u001b[38;5;129;01mand\u001b[39;00m parse_float \u001b[38;5;129;01mis\u001b[39;00m \u001b[38;5;28;01mNone\u001b[39;00m \u001b[38;5;129;01mand\u001b[39;00m\n\u001b[1;32m    345\u001b[0m         parse_constant \u001b[38;5;129;01mis\u001b[39;00m \u001b[38;5;28;01mNone\u001b[39;00m \u001b[38;5;129;01mand\u001b[39;00m object_pairs_hook \u001b[38;5;129;01mis\u001b[39;00m \u001b[38;5;28;01mNone\u001b[39;00m \u001b[38;5;129;01mand\u001b[39;00m \u001b[38;5;129;01mnot\u001b[39;00m kw):\n\u001b[0;32m--> 346\u001b[0m     \u001b[38;5;28;01mreturn\u001b[39;00m \u001b[43m_default_decoder\u001b[49m\u001b[38;5;241;43m.\u001b[39;49m\u001b[43mdecode\u001b[49m\u001b[43m(\u001b[49m\u001b[43ms\u001b[49m\u001b[43m)\u001b[49m\n\u001b[1;32m    347\u001b[0m \u001b[38;5;28;01mif\u001b[39;00m \u001b[38;5;28mcls\u001b[39m \u001b[38;5;129;01mis\u001b[39;00m \u001b[38;5;28;01mNone\u001b[39;00m:\n\u001b[1;32m    348\u001b[0m     \u001b[38;5;28mcls\u001b[39m \u001b[38;5;241m=\u001b[39m JSONDecoder\n",
      "File \u001b[0;32m/usr/lib/python3.11/json/decoder.py:340\u001b[0m, in \u001b[0;36mJSONDecoder.decode\u001b[0;34m(self, s, _w)\u001b[0m\n\u001b[1;32m    338\u001b[0m end \u001b[38;5;241m=\u001b[39m _w(s, end)\u001b[38;5;241m.\u001b[39mend()\n\u001b[1;32m    339\u001b[0m \u001b[38;5;28;01mif\u001b[39;00m end \u001b[38;5;241m!=\u001b[39m \u001b[38;5;28mlen\u001b[39m(s):\n\u001b[0;32m--> 340\u001b[0m     \u001b[38;5;28;01mraise\u001b[39;00m JSONDecodeError(\u001b[38;5;124m\"\u001b[39m\u001b[38;5;124mExtra data\u001b[39m\u001b[38;5;124m\"\u001b[39m, s, end)\n\u001b[1;32m    341\u001b[0m \u001b[38;5;28;01mreturn\u001b[39;00m obj\n",
      "\u001b[0;31mJSONDecodeError\u001b[0m: Extra data: line 12 column 1 (char 379)"
     ]
    }
   ],
   "source": [
    "import json\n",
    "import pandas as pd\n",
    "\n",
    "# Assuming you have a DataFrame named 'df'\n",
    "for index, row in df[:50].iterrows():\n",
    "    # Access the values of each column in the current row\n",
    "    # column1_value = row['Source']\n",
    "    column2_value = row['Output']\n",
    "    json_data = json.loads(column2_value)\n",
    "    \n",
    "    # Perform operations on the values or use them in your code\n",
    "    # ...\n",
    "    \n",
    "    # Print the values if needed\n",
    "    print(json_data)\n"
   ]
  },
  {
   "cell_type": "markdown",
   "metadata": {},
   "source": [
    "## Optional: verify if the output text is indeed json"
   ]
  },
  {
   "cell_type": "code",
   "execution_count": 26,
   "metadata": {},
   "outputs": [],
   "source": [
    "import ijson\n",
    "\n",
    "def parse_json_objects(json_string):\n",
    "    objects = []\n",
    "    parser = ijson.parse(json_string)\n",
    "    for prefix, event, value in parser:\n",
    "        if (prefix, event) == ('', 'map_key'):\n",
    "            # Start of a new object\n",
    "            builder = ijson.common.ObjectBuilder()\n",
    "        builder.event(event, value)\n",
    "        if (prefix, event) == ('', 'end_map'):\n",
    "            # End of the object\n",
    "            objects.append(builder.value)\n",
    "    return objects"
   ]
  },
  {
   "cell_type": "code",
   "execution_count": 27,
   "metadata": {},
   "outputs": [
    {
     "ename": "IncompleteJSONError",
     "evalue": "parse error: trailing garbage\n          services.\"         ]     } } {     \"Output\": {         \"ques\n                     (right here) ------^\n",
     "output_type": "error",
     "traceback": [
      "\u001b[0;31m---------------------------------------------------------------------------\u001b[0m",
      "\u001b[0;31mIncompleteJSONError\u001b[0m                       Traceback (most recent call last)",
      "Cell \u001b[0;32mIn[27], line 2\u001b[0m\n\u001b[1;32m      1\u001b[0m json_string \u001b[38;5;241m=\u001b[39m \u001b[38;5;28mstr\u001b[39m(\u001b[38;5;124m'\u001b[39m\u001b[38;5;124m{\u001b[39m\u001b[38;5;130;01m\\n\u001b[39;00m\u001b[38;5;124m    \u001b[39m\u001b[38;5;124m\"\u001b[39m\u001b[38;5;124mOutput\u001b[39m\u001b[38;5;124m\"\u001b[39m\u001b[38;5;124m: \u001b[39m\u001b[38;5;124m{\u001b[39m\u001b[38;5;130;01m\\n\u001b[39;00m\u001b[38;5;124m        \u001b[39m\u001b[38;5;124m\"\u001b[39m\u001b[38;5;124mquestion\u001b[39m\u001b[38;5;124m\"\u001b[39m\u001b[38;5;124m: \u001b[39m\u001b[38;5;124m\"\u001b[39m\u001b[38;5;124mWhat is the role of a service producer in service-oriented architecture (SOA)?\u001b[39m\u001b[38;5;124m\"\u001b[39m\u001b[38;5;124m,\u001b[39m\u001b[38;5;130;01m\\n\u001b[39;00m\u001b[38;5;124m        \u001b[39m\u001b[38;5;124m\"\u001b[39m\u001b[38;5;124mcorrect_answer\u001b[39m\u001b[38;5;124m\"\u001b[39m\u001b[38;5;124m: \u001b[39m\u001b[38;5;124m\"\u001b[39m\u001b[38;5;124mProvides and manages a service.\u001b[39m\u001b[38;5;124m\"\u001b[39m\u001b[38;5;124m,\u001b[39m\u001b[38;5;130;01m\\n\u001b[39;00m\u001b[38;5;124m        \u001b[39m\u001b[38;5;124m\"\u001b[39m\u001b[38;5;124mincorrect_answers\u001b[39m\u001b[38;5;124m\"\u001b[39m\u001b[38;5;124m: [\u001b[39m\u001b[38;5;130;01m\\n\u001b[39;00m\u001b[38;5;124m            \u001b[39m\u001b[38;5;124m\"\u001b[39m\u001b[38;5;124mDiscovers and invokes services.\u001b[39m\u001b[38;5;124m\"\u001b[39m\u001b[38;5;124m,\u001b[39m\u001b[38;5;130;01m\\n\u001b[39;00m\u001b[38;5;124m            \u001b[39m\u001b[38;5;124m\"\u001b[39m\u001b[38;5;124mRegisters and advertises services.\u001b[39m\u001b[38;5;124m\"\u001b[39m\u001b[38;5;124m,\u001b[39m\u001b[38;5;130;01m\\n\u001b[39;00m\u001b[38;5;124m            \u001b[39m\u001b[38;5;124m\"\u001b[39m\u001b[38;5;124mMaintains contracts between services.\u001b[39m\u001b[38;5;124m\"\u001b[39m\u001b[38;5;130;01m\\n\u001b[39;00m\u001b[38;5;124m        ]\u001b[39m\u001b[38;5;130;01m\\n\u001b[39;00m\u001b[38;5;124m    }\u001b[39m\u001b[38;5;130;01m\\n\u001b[39;00m\u001b[38;5;124m}\u001b[39m\u001b[38;5;130;01m\\n\u001b[39;00m\u001b[38;5;124m{\u001b[39m\u001b[38;5;130;01m\\n\u001b[39;00m\u001b[38;5;124m    \u001b[39m\u001b[38;5;124m\"\u001b[39m\u001b[38;5;124mOutput\u001b[39m\u001b[38;5;124m\"\u001b[39m\u001b[38;5;124m: \u001b[39m\u001b[38;5;124m{\u001b[39m\u001b[38;5;130;01m\\n\u001b[39;00m\u001b[38;5;124m        \u001b[39m\u001b[38;5;124m\"\u001b[39m\u001b[38;5;124mquestion\u001b[39m\u001b[38;5;124m\"\u001b[39m\u001b[38;5;124m: \u001b[39m\u001b[38;5;124m\"\u001b[39m\u001b[38;5;124mWhat is the purpose of a service registry in SOA?\u001b[39m\u001b[38;5;124m\"\u001b[39m\u001b[38;5;124m,\u001b[39m\u001b[38;5;130;01m\\n\u001b[39;00m\u001b[38;5;124m        \u001b[39m\u001b[38;5;124m\"\u001b[39m\u001b[38;5;124mcorrect_answer\u001b[39m\u001b[38;5;124m\"\u001b[39m\u001b[38;5;124m: \u001b[39m\u001b[38;5;124m\"\u001b[39m\u001b[38;5;124mStores and manages information about available services.\u001b[39m\u001b[38;5;124m\"\u001b[39m\u001b[38;5;124m,\u001b[39m\u001b[38;5;130;01m\\n\u001b[39;00m\u001b[38;5;124m        \u001b[39m\u001b[38;5;124m\"\u001b[39m\u001b[38;5;124mincorrect_answers\u001b[39m\u001b[38;5;124m\"\u001b[39m\u001b[38;5;124m: [\u001b[39m\u001b[38;5;130;01m\\n\u001b[39;00m\u001b[38;5;124m            \u001b[39m\u001b[38;5;124m\"\u001b[39m\u001b[38;5;124mExecutes service requests.\u001b[39m\u001b[38;5;124m\"\u001b[39m\u001b[38;5;124m,\u001b[39m\u001b[38;5;130;01m\\n\u001b[39;00m\u001b[38;5;124m            \u001b[39m\u001b[38;5;124m\"\u001b[39m\u001b[38;5;124mDiscovers and invokes services.\u001b[39m\u001b[38;5;124m\"\u001b[39m\u001b[38;5;124m,\u001b[39m\u001b[38;5;130;01m\\n\u001b[39;00m\u001b[38;5;124m            \u001b[39m\u001b[38;5;124m\"\u001b[39m\u001b[38;5;124mProvides and manages services.\u001b[39m\u001b[38;5;124m\"\u001b[39m\u001b[38;5;130;01m\\n\u001b[39;00m\u001b[38;5;124m        ]\u001b[39m\u001b[38;5;130;01m\\n\u001b[39;00m\u001b[38;5;124m    }\u001b[39m\u001b[38;5;130;01m\\n\u001b[39;00m\u001b[38;5;124m}\u001b[39m\u001b[38;5;130;01m\\n\u001b[39;00m\u001b[38;5;124m{\u001b[39m\u001b[38;5;130;01m\\n\u001b[39;00m\u001b[38;5;124m    \u001b[39m\u001b[38;5;124m\"\u001b[39m\u001b[38;5;124mOutput\u001b[39m\u001b[38;5;124m\"\u001b[39m\u001b[38;5;124m: \u001b[39m\u001b[38;5;124m{\u001b[39m\u001b[38;5;130;01m\\n\u001b[39;00m\u001b[38;5;124m        \u001b[39m\u001b[38;5;124m\"\u001b[39m\u001b[38;5;124mquestion\u001b[39m\u001b[38;5;124m\"\u001b[39m\u001b[38;5;124m: \u001b[39m\u001b[38;5;124m\"\u001b[39m\u001b[38;5;124mWhich component is responsible for discovering and invoking services in SOA?\u001b[39m\u001b[38;5;124m\"\u001b[39m\u001b[38;5;124m,\u001b[39m\u001b[38;5;130;01m\\n\u001b[39;00m\u001b[38;5;124m        \u001b[39m\u001b[38;5;124m\"\u001b[39m\u001b[38;5;124mcorrect_answer\u001b[39m\u001b[38;5;124m\"\u001b[39m\u001b[38;5;124m: \u001b[39m\u001b[38;5;124m\"\u001b[39m\u001b[38;5;124mService consumer.\u001b[39m\u001b[38;5;124m\"\u001b[39m\u001b[38;5;124m,\u001b[39m\u001b[38;5;130;01m\\n\u001b[39;00m\u001b[38;5;124m        \u001b[39m\u001b[38;5;124m\"\u001b[39m\u001b[38;5;124mincorrect_answers\u001b[39m\u001b[38;5;124m\"\u001b[39m\u001b[38;5;124m: [\u001b[39m\u001b[38;5;130;01m\\n\u001b[39;00m\u001b[38;5;124m            \u001b[39m\u001b[38;5;124m\"\u001b[39m\u001b[38;5;124mService producer.\u001b[39m\u001b[38;5;124m\"\u001b[39m\u001b[38;5;124m,\u001b[39m\u001b[38;5;130;01m\\n\u001b[39;00m\u001b[38;5;124m            \u001b[39m\u001b[38;5;124m\"\u001b[39m\u001b[38;5;124mService registry.\u001b[39m\u001b[38;5;124m\"\u001b[39m\u001b[38;5;124m,\u001b[39m\u001b[38;5;130;01m\\n\u001b[39;00m\u001b[38;5;124m            \u001b[39m\u001b[38;5;124m\"\u001b[39m\u001b[38;5;124mService contract.\u001b[39m\u001b[38;5;124m\"\u001b[39m\u001b[38;5;130;01m\\n\u001b[39;00m\u001b[38;5;124m        ]\u001b[39m\u001b[38;5;130;01m\\n\u001b[39;00m\u001b[38;5;124m    }\u001b[39m\u001b[38;5;130;01m\\n\u001b[39;00m\u001b[38;5;124m}\u001b[39m\u001b[38;5;124m'\u001b[39m)\n\u001b[0;32m----> 2\u001b[0m json_objects \u001b[38;5;241m=\u001b[39m \u001b[43mparse_json_objects\u001b[49m\u001b[43m(\u001b[49m\u001b[43mjson_string\u001b[49m\u001b[43m)\u001b[49m\n\u001b[1;32m      3\u001b[0m \u001b[38;5;28;01mfor\u001b[39;00m obj \u001b[38;5;129;01min\u001b[39;00m json_objects:\n\u001b[1;32m      4\u001b[0m     \u001b[38;5;28mprint\u001b[39m(obj)\n",
      "Cell \u001b[0;32mIn[26], line 6\u001b[0m, in \u001b[0;36mparse_json_objects\u001b[0;34m(json_string)\u001b[0m\n\u001b[1;32m      4\u001b[0m objects \u001b[38;5;241m=\u001b[39m []\n\u001b[1;32m      5\u001b[0m parser \u001b[38;5;241m=\u001b[39m ijson\u001b[38;5;241m.\u001b[39mparse(json_string)\n\u001b[0;32m----> 6\u001b[0m \u001b[43m\u001b[49m\u001b[38;5;28;43;01mfor\u001b[39;49;00m\u001b[43m \u001b[49m\u001b[43mprefix\u001b[49m\u001b[43m,\u001b[49m\u001b[43m \u001b[49m\u001b[43mevent\u001b[49m\u001b[43m,\u001b[49m\u001b[43m \u001b[49m\u001b[43mvalue\u001b[49m\u001b[43m \u001b[49m\u001b[38;5;129;43;01min\u001b[39;49;00m\u001b[43m \u001b[49m\u001b[43mparser\u001b[49m\u001b[43m:\u001b[49m\n\u001b[1;32m      7\u001b[0m \u001b[43m    \u001b[49m\u001b[38;5;28;43;01mif\u001b[39;49;00m\u001b[43m \u001b[49m\u001b[43m(\u001b[49m\u001b[43mprefix\u001b[49m\u001b[43m,\u001b[49m\u001b[43m \u001b[49m\u001b[43mevent\u001b[49m\u001b[43m)\u001b[49m\u001b[43m \u001b[49m\u001b[38;5;241;43m==\u001b[39;49m\u001b[43m \u001b[49m\u001b[43m(\u001b[49m\u001b[38;5;124;43m'\u001b[39;49m\u001b[38;5;124;43m'\u001b[39;49m\u001b[43m,\u001b[49m\u001b[43m \u001b[49m\u001b[38;5;124;43m'\u001b[39;49m\u001b[38;5;124;43mmap_key\u001b[39;49m\u001b[38;5;124;43m'\u001b[39;49m\u001b[43m)\u001b[49m\u001b[43m:\u001b[49m\n\u001b[1;32m      8\u001b[0m \u001b[43m        \u001b[49m\u001b[38;5;66;43;03m# Start of a new object\u001b[39;49;00m\n\u001b[1;32m      9\u001b[0m \u001b[43m        \u001b[49m\u001b[43mbuilder\u001b[49m\u001b[43m \u001b[49m\u001b[38;5;241;43m=\u001b[39;49m\u001b[43m \u001b[49m\u001b[43mijson\u001b[49m\u001b[38;5;241;43m.\u001b[39;49m\u001b[43mcommon\u001b[49m\u001b[38;5;241;43m.\u001b[39;49m\u001b[43mObjectBuilder\u001b[49m\u001b[43m(\u001b[49m\u001b[43m)\u001b[49m\n",
      "\u001b[0;31mIncompleteJSONError\u001b[0m: parse error: trailing garbage\n          services.\"         ]     } } {     \"Output\": {         \"ques\n                     (right here) ------^\n"
     ]
    }
   ],
   "source": [
    "json_string = str('{\\n    \"Output\": {\\n        \"question\": \"What is the role of a service producer in service-oriented architecture (SOA)?\",\\n        \"correct_answer\": \"Provides and manages a service.\",\\n        \"incorrect_answers\": [\\n            \"Discovers and invokes services.\",\\n            \"Registers and advertises services.\",\\n            \"Maintains contracts between services.\"\\n        ]\\n    }\\n}\\n{\\n    \"Output\": {\\n        \"question\": \"What is the purpose of a service registry in SOA?\",\\n        \"correct_answer\": \"Stores and manages information about available services.\",\\n        \"incorrect_answers\": [\\n            \"Executes service requests.\",\\n            \"Discovers and invokes services.\",\\n            \"Provides and manages services.\"\\n        ]\\n    }\\n}\\n{\\n    \"Output\": {\\n        \"question\": \"Which component is responsible for discovering and invoking services in SOA?\",\\n        \"correct_answer\": \"Service consumer.\",\\n        \"incorrect_answers\": [\\n            \"Service producer.\",\\n            \"Service registry.\",\\n            \"Service contract.\"\\n        ]\\n    }\\n}')\n",
    "json_objects = parse_json_objects(json_string)\n",
    "for obj in json_objects:\n",
    "    print(obj)"
   ]
  },
  {
   "cell_type": "markdown",
   "metadata": {},
   "source": [
    "## Create a jsonl file with formatting the datas into the needed structure for fine tuning"
   ]
  },
  {
   "cell_type": "code",
   "execution_count": 3,
   "metadata": {},
   "outputs": [],
   "source": [
    "import json\n",
    "\n",
    "path_to_file = 'dataset_mistral_instruct1.jsonl'\n",
    "\n",
    "with open (path_to_file, 'w') as f:\n",
    "    for index, row in df.iterrows():\n",
    "        prompt = f\"<s>[INST]### Instruction : You are given a sequence of text. Read the whole text and summarize its content. Then generate a logical question, correct answer and three incorrect answers suitable for mcq from the summary.The output should be only a json formatted in the below format.\" + \"{\\\"type\\\": \\\"object\\\", \\\"properties\\\": {\\\"Output\\\": {\\\"type\\\": \\\"object\\\", \\\"properties\\\": {\\\"question\\\": {\\\"type\\\": \\\"string\\\"}, \\\"correct_answer\\\": {\\\"type\\\": \\\"string\\\"}, \\\"incorrect_answers\\\": {\\\"type\\\": \\\"array\\\", \\\"items\\\": {\\\"type\\\": \\\"string\\\"}}}, \\\"required\\\": [\\\"question\\\", \\\"correct_answer\\\", \\\"incorrect_answers\\\"]}}, \\\"required\\\": [\\\"Output\\\"]}\" + f\" ### Input : {row['Input']}[/INST]\"\n",
    "        completion = f\"### Output : {row['Output']} ### End</s>\"\n",
    "        json_object = {\n",
    "            \"prompt\": prompt,\n",
    "            \"completion\": completion\n",
    "        }\n",
    "        f.write(json.dumps(json_object)+\"\\n\")\n",
    "        "
   ]
  }
 ],
 "metadata": {
  "kernelspec": {
   "display_name": "venv",
   "language": "python",
   "name": "python3"
  },
  "language_info": {
   "codemirror_mode": {
    "name": "ipython",
    "version": 3
   },
   "file_extension": ".py",
   "mimetype": "text/x-python",
   "name": "python",
   "nbconvert_exporter": "python",
   "pygments_lexer": "ipython3",
   "version": "3.11.7"
  }
 },
 "nbformat": 4,
 "nbformat_minor": 2
}
